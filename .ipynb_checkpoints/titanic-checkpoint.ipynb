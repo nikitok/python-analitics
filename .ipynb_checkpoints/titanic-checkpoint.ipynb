{
 "cells": [
  {
   "cell_type": "code",
   "execution_count": 54,
   "metadata": {
    "collapsed": false
   },
   "outputs": [
    {
     "name": "stdout",
     "output_type": "stream",
     "text": [
      "---\n",
      "first lines\n",
      "---\n",
      "\n",
      "             Survived  Pclass  \\\n",
      "PassengerId                     \n",
      "1                   0       3   \n",
      "2                   1       1   \n",
      "3                   1       3   \n",
      "\n",
      "                                                          Name     Sex  Age  \\\n",
      "PassengerId                                                                   \n",
      "1                                      Braund, Mr. Owen Harris    male   22   \n",
      "2            Cumings, Mrs. John Bradley (Florence Briggs Th...  female   38   \n",
      "3                                       Heikkinen, Miss. Laina  female   26   \n",
      "\n",
      "             SibSp  Parch            Ticket     Fare Cabin Embarked  \n",
      "PassengerId                                                          \n",
      "1                1      0         A/5 21171   7.2500   NaN        S  \n",
      "2                1      0          PC 17599  71.2833   C85        C  \n",
      "3                0      0  STON/O2. 3101282   7.9250   NaN        S  \n",
      "---\n",
      "types\n",
      "---\n",
      "\n",
      "Survived      int64\n",
      "Pclass        int64\n",
      "Name         object\n",
      "Sex          object\n",
      "Age         float64\n",
      "SibSp         int64\n",
      "Parch         int64\n",
      "Ticket       object\n",
      "Fare        float64\n",
      "Cabin        object\n",
      "Embarked     object\n",
      "dtype: object\n"
     ]
    }
   ],
   "source": [
    "import pandas as pd\n",
    "import matplotlib.pyplot as plt\n",
    "import numpy.random as np\n",
    "import sys\n",
    "import matplotlib\n",
    "\n",
    "data = pd.read_csv('titanic.csv', index_col='PassengerId')\n",
    "print '---\\nfirst lines\\n---\\n'\n",
    "print data[:3]\n",
    "print '---\\ntypes\\n---\\n'\n",
    "print data.dtypes"
   ]
  },
  {
   "cell_type": "code",
   "execution_count": 18,
   "metadata": {
    "collapsed": false
   },
   "outputs": [
    {
     "name": "stdout",
     "output_type": "stream",
     "text": [
      "male      577\n",
      "female    314\n",
      "Name: Sex, dtype: int64\n"
     ]
    }
   ],
   "source": [
    "print data['Sex'].value_counts()"
   ]
  },
  {
   "cell_type": "code",
   "execution_count": 39,
   "metadata": {
    "collapsed": false
   },
   "outputs": [
    {
     "name": "stdout",
     "output_type": "stream",
     "text": [
      "38.3838383838\n",
      "0    549\n",
      "1    342\n",
      "Name: Survived, dtype: int64\n",
      "count    891.000000\n",
      "mean       0.383838\n",
      "std        0.486592\n",
      "min        0.000000\n",
      "25%        0.000000\n",
      "50%        0.000000\n",
      "75%        1.000000\n",
      "max        1.000000\n",
      "Name: Survived, dtype: float64\n"
     ]
    }
   ],
   "source": [
    "print 100 * data['Survived'][data.Survived == 1].size  / float(data['Survived'].size) \n",
    "print data['Survived'].value_counts()\n",
    "print data['Survived'].describe()"
   ]
  },
  {
   "cell_type": "code",
   "execution_count": 41,
   "metadata": {
    "collapsed": false
   },
   "outputs": [
    {
     "name": "stdout",
     "output_type": "stream",
     "text": [
      "3    491\n",
      "1    216\n",
      "2    184\n",
      "Name: Pclass, dtype: int64\n",
      "24.2424242424\n"
     ]
    }
   ],
   "source": [
    "print data['Pclass'].value_counts()\n",
    "print 100 * data['Pclass'][data.Pclass == 1].size  / float(data['Pclass'].size) "
   ]
  },
  {
   "cell_type": "code",
   "execution_count": 62,
   "metadata": {
    "collapsed": false
   },
   "outputs": [
    {
     "name": "stdout",
     "output_type": "stream",
     "text": [
      "23.7992929293\n",
      "28.0\n"
     ]
    }
   ],
   "source": [
    "print data['Age'].sum()/data['Age'].size\n",
    "print data['Age'].median()\n"
   ]
  },
  {
   "cell_type": "code",
   "execution_count": 65,
   "metadata": {
    "collapsed": false
   },
   "outputs": [
    {
     "name": "stdout",
     "output_type": "stream",
     "text": [
      "          Survived    Pclass       Age     SibSp     Parch      Fare\n",
      "Survived  1.000000 -0.338481 -0.077221 -0.035322  0.081629  0.257307\n",
      "Pclass   -0.338481  1.000000 -0.369226  0.083081  0.018443 -0.549500\n",
      "Age      -0.077221 -0.369226  1.000000 -0.308247 -0.189119  0.096067\n",
      "SibSp    -0.035322  0.083081 -0.308247  1.000000  0.414838  0.159651\n",
      "Parch     0.081629  0.018443 -0.189119  0.414838  1.000000  0.216225\n",
      "Fare      0.257307 -0.549500  0.096067  0.159651  0.216225  1.000000\n"
     ]
    }
   ],
   "source": [
    "print data.corr()"
   ]
  },
  {
   "cell_type": "code",
   "execution_count": 101,
   "metadata": {
    "collapsed": false
   },
   "outputs": [
    {
     "name": "stdout",
     "output_type": "stream",
     "text": [
      "PassengerId\n",
      "2             John|||9?-1\n",
      "3           Laina|||-1?11\n",
      "4         Jacques|||10?-1\n",
      "9            Oscar|||9?-1\n",
      "10        Nicholas|||8?-1\n",
      "11     Marguerite|||-1?11\n",
      "12       Elizabeth|||-1?9\n",
      "15           Hulda|||-1?9\n",
      "16           (Mary|||9?-1\n",
      "19         Julius|||15?-1\n",
      "20         Fatima|||12?-1\n",
      "23            Anna|||-1?9\n",
      "25         Torborg|||-1?9\n",
      "26            Carl|||9?-1\n",
      "29           Ellen|||-1?9\n",
      "32         William|||9?-1\n",
      "33            Mary|||-1?7\n",
      "39        Augusta|||-1?15\n",
      "40         Jamila|||-1?15\n",
      "41           Johan|||7?-1\n",
      "42         William|||8?-1\n",
      "44         Simonne|||-1?9\n",
      "45        Margaret|||-1?9\n",
      "48        Bridget|||-1?12\n",
      "50          Josef|||16?-1\n",
      "53           Henry|||8?-1\n",
      "54         Lizzie|||12?-1\n",
      "57           Emily|||-1?6\n",
      "59       Constance|||-1?6\n",
      "62          Amelie|||-1?7\n",
      "              ...        \n",
      "808         Ellen|||-1?12\n",
      "810        Norman|||10?-1\n",
      "814          Ebba|||-1?11\n",
      "817        Wendla|||-1?10\n",
      "821        Charles|||6?-1\n",
      "824        (Beila)|||6?-1\n",
      "830         George|||7?-1\n",
      "831         Antoni|||9?-1\n",
      "836           Sara|||-1?9\n",
      "843       Augusta|||-1?10\n",
      "850        Samuel|||12?-1\n",
      "853      Nourelain|||-1?8\n",
      "854           Mary|||-1?7\n",
      "855         Ernest|||8?-1\n",
      "856            Sam|||5?-1\n",
      "857         George|||6?-1\n",
      "859        Solomon|||9?-1\n",
      "863      Frederick|||7?-1\n",
      "864        Dorothy|||-1?6\n",
      "866     (Karolina)|||9?-1\n",
      "867      Asuncion|||-1?14\n",
      "872       Richard|||10?-1\n",
      "875         Samuel|||9?-1\n",
      "876          Adele|||-1?7\n",
      "880         Thomas|||8?-1\n",
      "881        William|||9?-1\n",
      "883         Gerda|||-1?10\n",
      "886        William|||6?-1\n",
      "888       Margaret|||-1?8\n",
      "889     Catherine|||-1?10\n",
      "Name: Name, dtype: object\n"
     ]
    }
   ],
   "source": [
    "# test\n",
    "def f(x):\n",
    "    ms = x.find(\"Mrs.\")\n",
    "    mss = x.find(\"Miss.\")\n",
    "    \n",
    "    if ( ms  > -1 ) : x = x[ms+5:]\n",
    "    if ( mss  > -1 ) : x = x[mss+6:]\n",
    "    \n",
    "    if(ms == -1 and mss == -1): return \"\"\n",
    "    space =  x.find(\" \")  \n",
    "    if(space > -1)  : x = x[:space]\n",
    "    return str(x) + \"|||\" + str(ms) + \"?\" + str(mss)\n",
    "  \n",
    "    \n",
    "#print data['Name'][data.Sex == 'female'].apply(f)\n",
    "print data['Name'][data.Sex == 'female'].apply(f).value_counts()"
   ]
  },
  {
   "cell_type": "code",
   "execution_count": null,
   "metadata": {
    "collapsed": true
   },
   "outputs": [],
   "source": []
  }
 ],
 "metadata": {
  "kernelspec": {
   "display_name": "Python 2",
   "language": "python",
   "name": "python2"
  },
  "language_info": {
   "codemirror_mode": {
    "name": "ipython",
    "version": 2
   },
   "file_extension": ".py",
   "mimetype": "text/x-python",
   "name": "python",
   "nbconvert_exporter": "python",
   "pygments_lexer": "ipython2",
   "version": "2.7.11"
  }
 },
 "nbformat": 4,
 "nbformat_minor": 0
}
