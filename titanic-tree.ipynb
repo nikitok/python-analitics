{
 "cells": [
  {
   "cell_type": "code",
   "execution_count": 164,
   "metadata": {
    "collapsed": false
   },
   "outputs": [
    {
     "name": "stdout",
     "output_type": "stream",
     "text": [
      "---\n",
      "first lines\n",
      "---\n",
      "\n",
      "             Survived  Pclass     Sex  Age     Fare\n",
      "PassengerId                                        \n",
      "1                   0       3    male   22   7.2500\n",
      "2                   1       1  female   38  71.2833\n",
      "3                   1       3  female   26   7.9250\n",
      "---\n",
      "types\n",
      "---\n",
      "\n",
      "Survived      int64\n",
      "Pclass        int64\n",
      "Sex          object\n",
      "Age         float64\n",
      "Fare        float64\n",
      "dtype: object\n",
      "4455\n",
      "1    453\n",
      "0    261\n",
      "Name: Sex, dtype: int64\n",
      "714\n",
      "             Survived  Pclass  Sex  Age     Fare\n",
      "PassengerId                                     \n",
      "1                   0       3    1   22   7.2500\n",
      "2                   1       1    0   38  71.2833\n",
      "3                   1       3    0   26   7.9250\n",
      "4                   1       1    0   35  53.1000\n",
      "5                   0       3    1   35   8.0500\n",
      "7                   0       1    1   54  51.8625\n",
      "8                   0       3    1    2  21.0750\n",
      "9                   1       3    0   27  11.1333\n",
      "10                  1       2    0   14  30.0708\n",
      "11                  1       3    0    4  16.7000\n"
     ]
    }
   ],
   "source": [
    "import pandas as pd\n",
    "import matplotlib.pyplot as plt\n",
    "import numpy as np\n",
    "import sys\n",
    "import matplotlib\n",
    "\n",
    "data = pd.read_csv('titanic.csv', index_col='PassengerId', usecols=[\"PassengerId\", \"Pclass\", \"Fare\", \"Age\", \"Sex\", \"Survived\"])\n",
    "print '---\\nfirst lines\\n---\\n'\n",
    "print data[:3]\n",
    "print '---\\ntypes\\n---\\n'\n",
    "print data.dtypes\n",
    "print data.size\n",
    "data = data[data.Age.notnull()]\n",
    "\n",
    "clear_data = data.dropna(subset=['Pclass', 'Fare', 'Age', 'Survived', 'Sex'])\n",
    "clear_data=clear_data.replace(to_replace=['male', 'female'], value=[1, 0])\n",
    "print clear_data['Sex'].value_counts()\n",
    "print clear_data['Sex'].size\n",
    "print clear_data[:10]"
   ]
  },
  {
   "cell_type": "code",
   "execution_count": 165,
   "metadata": {
    "collapsed": false
   },
   "outputs": [
    {
     "name": "stdout",
     "output_type": "stream",
     "text": [
      "DecisionTreeClassifier(class_weight=None, criterion='gini', max_depth=None,\n",
      "            max_features=None, max_leaf_nodes=None, min_samples_leaf=1,\n",
      "            min_samples_split=2, min_weight_fraction_leaf=0.0,\n",
      "            presort=False, random_state=241, splitter='best')\n",
      "[ 0.14000522  0.30051221  0.2560461   0.30343647]\n"
     ]
    }
   ],
   "source": [
    "from sklearn.tree import DecisionTreeClassifier\n",
    "clf = DecisionTreeClassifier(random_state=241)\n",
    "X = clear_data[['Pclass', 'Sex', 'Age', 'Fare']] \n",
    "y = clear_data[['Survived']] \n",
    "clf.fit(X, y)\n",
    "importances = clf.feature_importances_\n",
    "print clf\n",
    "print importances"
   ]
  },
  {
   "cell_type": "code",
   "execution_count": 133,
   "metadata": {
    "collapsed": false
   },
   "outputs": [
    {
     "name": "stdout",
     "output_type": "stream",
     "text": [
      "[ 0.14751816  0.30051221  0.25124241  0.30072722]\n"
     ]
    }
   ],
   "source": [
    "print importances"
   ]
  },
  {
   "cell_type": "code",
   "execution_count": null,
   "metadata": {
    "collapsed": true
   },
   "outputs": [],
   "source": []
  },
  {
   "cell_type": "code",
   "execution_count": null,
   "metadata": {
    "collapsed": true
   },
   "outputs": [],
   "source": []
  },
  {
   "cell_type": "code",
   "execution_count": null,
   "metadata": {
    "collapsed": true
   },
   "outputs": [],
   "source": []
  }
 ],
 "metadata": {
  "kernelspec": {
   "display_name": "Python 2",
   "language": "python",
   "name": "python2"
  },
  "language_info": {
   "codemirror_mode": {
    "name": "ipython",
    "version": 2
   },
   "file_extension": ".py",
   "mimetype": "text/x-python",
   "name": "python",
   "nbconvert_exporter": "python",
   "pygments_lexer": "ipython2",
   "version": "2.7.11"
  }
 },
 "nbformat": 4,
 "nbformat_minor": 0
}
