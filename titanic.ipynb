{
 "cells": [
  {
   "cell_type": "code",
   "execution_count": 54,
   "metadata": {
    "collapsed": false
   },
   "outputs": [
    {
     "name": "stdout",
     "output_type": "stream",
     "text": [
      "---\n",
      "first lines\n",
      "---\n",
      "\n",
      "             Survived  Pclass  \\\n",
      "PassengerId                     \n",
      "1                   0       3   \n",
      "2                   1       1   \n",
      "3                   1       3   \n",
      "\n",
      "                                                          Name     Sex  Age  \\\n",
      "PassengerId                                                                   \n",
      "1                                      Braund, Mr. Owen Harris    male   22   \n",
      "2            Cumings, Mrs. John Bradley (Florence Briggs Th...  female   38   \n",
      "3                                       Heikkinen, Miss. Laina  female   26   \n",
      "\n",
      "             SibSp  Parch            Ticket     Fare Cabin Embarked  \n",
      "PassengerId                                                          \n",
      "1                1      0         A/5 21171   7.2500   NaN        S  \n",
      "2                1      0          PC 17599  71.2833   C85        C  \n",
      "3                0      0  STON/O2. 3101282   7.9250   NaN        S  \n",
      "---\n",
      "types\n",
      "---\n",
      "\n",
      "Survived      int64\n",
      "Pclass        int64\n",
      "Name         object\n",
      "Sex          object\n",
      "Age         float64\n",
      "SibSp         int64\n",
      "Parch         int64\n",
      "Ticket       object\n",
      "Fare        float64\n",
      "Cabin        object\n",
      "Embarked     object\n",
      "dtype: object\n"
     ]
    }
   ],
   "source": [
    "import pandas as pd\n",
    "import matplotlib.pyplot as plt\n",
    "import numpy.random as np\n",
    "import sys\n",
    "import matplotlib\n",
    "\n",
    "data = pd.read_csv('titanic.csv', index_col='PassengerId')\n",
    "print '---\\nfirst lines\\n---\\n'\n",
    "print data[:3]\n",
    "print '---\\ntypes\\n---\\n'\n",
    "print data.dtypes"
   ]
  },
  {
   "cell_type": "code",
   "execution_count": 18,
   "metadata": {
    "collapsed": false
   },
   "outputs": [
    {
     "name": "stdout",
     "output_type": "stream",
     "text": [
      "male      577\n",
      "female    314\n",
      "Name: Sex, dtype: int64\n"
     ]
    }
   ],
   "source": [
    "print data['Sex'].value_counts()"
   ]
  },
  {
   "cell_type": "code",
   "execution_count": 39,
   "metadata": {
    "collapsed": false
   },
   "outputs": [
    {
     "name": "stdout",
     "output_type": "stream",
     "text": [
      "38.3838383838\n",
      "0    549\n",
      "1    342\n",
      "Name: Survived, dtype: int64\n",
      "count    891.000000\n",
      "mean       0.383838\n",
      "std        0.486592\n",
      "min        0.000000\n",
      "25%        0.000000\n",
      "50%        0.000000\n",
      "75%        1.000000\n",
      "max        1.000000\n",
      "Name: Survived, dtype: float64\n"
     ]
    }
   ],
   "source": [
    "print 100 * data['Survived'][data.Survived == 1].size  / float(data['Survived'].size) \n",
    "print data['Survived'].value_counts()\n",
    "print data['Survived'].describe()"
   ]
  },
  {
   "cell_type": "code",
   "execution_count": 41,
   "metadata": {
    "collapsed": false
   },
   "outputs": [
    {
     "name": "stdout",
     "output_type": "stream",
     "text": [
      "3    491\n",
      "1    216\n",
      "2    184\n",
      "Name: Pclass, dtype: int64\n",
      "24.2424242424\n"
     ]
    }
   ],
   "source": [
    "print data['Pclass'].value_counts()\n",
    "print 100 * data['Pclass'][data.Pclass == 1].size  / float(data['Pclass'].size) "
   ]
  },
  {
   "cell_type": "code",
   "execution_count": 103,
   "metadata": {
    "collapsed": false
   },
   "outputs": [
    {
     "name": "stdout",
     "output_type": "stream",
     "text": [
      "29.6991176471\n",
      "28.0\n"
     ]
    }
   ],
   "source": [
    "print data['Age'].mean()\n",
    "print data['Age'].median()\n"
   ]
  },
  {
   "cell_type": "code",
   "execution_count": 65,
   "metadata": {
    "collapsed": false
   },
   "outputs": [
    {
     "name": "stdout",
     "output_type": "stream",
     "text": [
      "          Survived    Pclass       Age     SibSp     Parch      Fare\n",
      "Survived  1.000000 -0.338481 -0.077221 -0.035322  0.081629  0.257307\n",
      "Pclass   -0.338481  1.000000 -0.369226  0.083081  0.018443 -0.549500\n",
      "Age      -0.077221 -0.369226  1.000000 -0.308247 -0.189119  0.096067\n",
      "SibSp    -0.035322  0.083081 -0.308247  1.000000  0.414838  0.159651\n",
      "Parch     0.081629  0.018443 -0.189119  0.414838  1.000000  0.216225\n",
      "Fare      0.257307 -0.549500  0.096067  0.159651  0.216225  1.000000\n"
     ]
    }
   ],
   "source": [
    "print data.corr()"
   ]
  },
  {
   "cell_type": "code",
   "execution_count": 102,
   "metadata": {
    "collapsed": false
   },
   "outputs": [
    {
     "name": "stdout",
     "output_type": "stream",
     "text": [
      "                      7\n",
      "Mary|||-1?7           4\n",
      "William|||8?-1        4\n",
      "Bertha|||-1?7         3\n",
      "Margaret|||-1?9       3\n",
      "William|||7?-1        3\n",
      "John|||8?-1           3\n",
      "Anna|||-1?7           3\n",
      "William|||9?-1        2\n",
      "Elizabeth|||-1?9      2\n",
      "Mary|||-1?8           2\n",
      "Hanora|||-1?9         2\n",
      "Kate|||-1?10          2\n",
      "Bridget|||-1?12       2\n",
      "Henry|||8?-1          2\n",
      "William|||6?-1        2\n",
      "Thomas|||9?-1         2\n",
      "Alice|||-1?9          2\n",
      "James|||6?-1          2\n",
      "Augusta|||-1?10       2\n",
      "Ellen|||-1?8          2\n",
      "Thomas|||7?-1         2\n",
      "Constance|||-1?6      2\n",
      "Margaret|||-1?8       2\n",
      "Frederick|||7?-1      2\n",
      "Lillian|||-1?9        2\n",
      "Katherine|||-1?9      2\n",
      "Elizabeth|||-1?8      2\n",
      "Anna|||-1?9           2\n",
      "Annie|||-1?8          2\n",
      "                     ..\n",
      "James|||8?-1          1\n",
      "Jacques|||10?-1       1\n",
      "Ingeborg|||-1?11      1\n",
      "Gretchen|||-1?9       1\n",
      "Adele|||-1?7          1\n",
      "Emily|||-1?9          1\n",
      "Emily|||-1?6          1\n",
      "Elise|||-1?9          1\n",
      "Mathilde|||-1?9       1\n",
      "Lyyli|||-1?8          1\n",
      "Aurora|||-1?12        1\n",
      "Anna|||-1?13          1\n",
      "Bertha|||-1?9         1\n",
      "Richard|||10?-1       1\n",
      "Marija|||-1?11        1\n",
      "Luise|||-1?15         1\n",
      "Edward|||8?-1         1\n",
      "Carla|||-1?17         1\n",
      "(Mary|||9?-1          1\n",
      "John|||9?-1           1\n",
      "Marguerite|||-1?11    1\n",
      "William|||10?-1       1\n",
      "Georgette|||-1?8      1\n",
      "Kornelia|||-1?9       1\n",
      "Alexander|||11?-1     1\n",
      "Anna|||-1?6           1\n",
      "(Edith|||10?-1        1\n",
      "Thamine|||-1?8        1\n",
      "(Lutie|||9?-1         1\n",
      "Daisy|||-1?9          1\n",
      "Name: Name, dtype: int64\n"
     ]
    }
   ],
   "source": [
    "# test\n",
    "def f(x):\n",
    "    ms = x.find(\"Mrs.\")\n",
    "    mss = x.find(\"Miss.\")\n",
    "    \n",
    "    if ( ms  > -1 ) : x = x[ms+5:]\n",
    "    if ( mss  > -1 ) : x = x[mss+6:]\n",
    "    \n",
    "    if(ms == -1 and mss == -1): return \"\"\n",
    "    space =  x.find(\" \")  \n",
    "    if(space > -1)  : x = x[:space]\n",
    "    return str(x) + \"|||\" + str(ms) + \"?\" + str(mss)\n",
    "  \n",
    "    \n",
    "#print data['Name'][data.Sex == 'female'].apply(f)\n",
    "print data['Name'][data.Sex == 'female'].apply(f).value_counts()"
   ]
  },
  {
   "cell_type": "code",
   "execution_count": null,
   "metadata": {
    "collapsed": true
   },
   "outputs": [],
   "source": []
  }
 ],
 "metadata": {
  "kernelspec": {
   "display_name": "Python 2",
   "language": "python",
   "name": "python2"
  },
  "language_info": {
   "codemirror_mode": {
    "name": "ipython",
    "version": 2
   },
   "file_extension": ".py",
   "mimetype": "text/x-python",
   "name": "python",
   "nbconvert_exporter": "python",
   "pygments_lexer": "ipython2",
   "version": "2.7.11"
  }
 },
 "nbformat": 4,
 "nbformat_minor": 0
}
